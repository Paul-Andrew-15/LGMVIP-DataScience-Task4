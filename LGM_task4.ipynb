{
  "nbformat": 4,
  "nbformat_minor": 0,
  "metadata": {
    "colab": {
      "provenance": []
    },
    "kernelspec": {
      "name": "python3",
      "display_name": "Python 3"
    },
    "language_info": {
      "name": "python"
    }
  },
  "cells": [
    {
      "cell_type": "code",
      "execution_count": 1,
      "metadata": {
        "id": "grXxNMr6rKwp"
      },
      "outputs": [],
      "source": [
        "import tensorflow as tf\n",
        "from tensorflow.keras import datasets, layers, models\n",
        "import matplotlib.pyplot as plt"
      ]
    },
    {
      "cell_type": "code",
      "source": [
        "# Load the dataset\n",
        "(train_images, train_labels), (test_images, test_labels) = datasets.mnist.load_data()\n",
        "\n",
        "# Normalize the images to [0, 1] range\n",
        "train_images = train_images / 255.0\n",
        "test_images = test_images / 255.0\n",
        "\n",
        "# Reshape the data to add a single channel (grayscale)\n",
        "train_images = train_images.reshape((train_images.shape[0], 28, 28, 1))\n",
        "test_images = test_images.reshape((test_images.shape[0], 28, 28, 1))"
      ],
      "metadata": {
        "colab": {
          "base_uri": "https://localhost:8080/"
        },
        "id": "UuCJo2flrUsl",
        "outputId": "291dff84-8594-45d0-acc9-5022aa59409b"
      },
      "execution_count": 2,
      "outputs": [
        {
          "output_type": "stream",
          "name": "stdout",
          "text": [
            "Downloading data from https://storage.googleapis.com/tensorflow/tf-keras-datasets/mnist.npz\n",
            "11490434/11490434 [==============================] - 0s 0us/step\n"
          ]
        }
      ]
    },
    {
      "cell_type": "code",
      "source": [
        "model = models.Sequential([\n",
        "    layers.Conv2D(32, (3, 3), activation='relu', input_shape=(28, 28, 1)),\n",
        "    layers.MaxPooling2D((2, 2)),\n",
        "    layers.Conv2D(64, (3, 3), activation='relu'),\n",
        "    layers.MaxPooling2D((2, 2)),\n",
        "    layers.Conv2D(64, (3, 3), activation='relu'),\n",
        "    layers.Flatten(),\n",
        "    layers.Dense(64, activation='relu'),\n",
        "    layers.Dense(10, activation='softmax')\n",
        "])"
      ],
      "metadata": {
        "id": "Cze0m-U4rZGl"
      },
      "execution_count": 3,
      "outputs": []
    },
    {
      "cell_type": "code",
      "source": [
        "model.compile(optimizer='adam',\n",
        "              loss='sparse_categorical_crossentropy',\n",
        "              metrics=['accuracy'])"
      ],
      "metadata": {
        "id": "E9gGwmfdrc3N"
      },
      "execution_count": 4,
      "outputs": []
    },
    {
      "cell_type": "code",
      "source": [
        "history = model.fit(train_images, train_labels, epochs=10,\n",
        "                    validation_data=(test_images, test_labels))"
      ],
      "metadata": {
        "colab": {
          "base_uri": "https://localhost:8080/"
        },
        "id": "k2nDH-9vrfGX",
        "outputId": "0edfafa6-e1dd-4da5-8b1c-58156b85532c"
      },
      "execution_count": 5,
      "outputs": [
        {
          "output_type": "stream",
          "name": "stdout",
          "text": [
            "Epoch 1/10\n",
            "1875/1875 [==============================] - 56s 29ms/step - loss: 0.1467 - accuracy: 0.9542 - val_loss: 0.0487 - val_accuracy: 0.9848\n",
            "Epoch 2/10\n",
            "1875/1875 [==============================] - 53s 28ms/step - loss: 0.0483 - accuracy: 0.9853 - val_loss: 0.0442 - val_accuracy: 0.9858\n",
            "Epoch 3/10\n",
            "1875/1875 [==============================] - 53s 28ms/step - loss: 0.0339 - accuracy: 0.9894 - val_loss: 0.0375 - val_accuracy: 0.9883\n",
            "Epoch 4/10\n",
            "1875/1875 [==============================] - 53s 28ms/step - loss: 0.0253 - accuracy: 0.9922 - val_loss: 0.0421 - val_accuracy: 0.9881\n",
            "Epoch 5/10\n",
            "1875/1875 [==============================] - 53s 28ms/step - loss: 0.0207 - accuracy: 0.9933 - val_loss: 0.0362 - val_accuracy: 0.9894\n",
            "Epoch 6/10\n",
            "1875/1875 [==============================] - 53s 28ms/step - loss: 0.0159 - accuracy: 0.9944 - val_loss: 0.0342 - val_accuracy: 0.9915\n",
            "Epoch 7/10\n",
            "1875/1875 [==============================] - 53s 28ms/step - loss: 0.0153 - accuracy: 0.9951 - val_loss: 0.0330 - val_accuracy: 0.9913\n",
            "Epoch 8/10\n",
            "1875/1875 [==============================] - 52s 28ms/step - loss: 0.0115 - accuracy: 0.9963 - val_loss: 0.0345 - val_accuracy: 0.9911\n",
            "Epoch 9/10\n",
            "1875/1875 [==============================] - 57s 31ms/step - loss: 0.0089 - accuracy: 0.9972 - val_loss: 0.0477 - val_accuracy: 0.9882\n",
            "Epoch 10/10\n",
            "1875/1875 [==============================] - 51s 27ms/step - loss: 0.0099 - accuracy: 0.9971 - val_loss: 0.0355 - val_accuracy: 0.9911\n"
          ]
        }
      ]
    },
    {
      "cell_type": "code",
      "source": [
        "test_loss, test_acc = model.evaluate(test_images, test_labels)\n",
        "print(f\"Test loss: {test_loss}\")"
      ],
      "metadata": {
        "colab": {
          "base_uri": "https://localhost:8080/"
        },
        "id": "GAE769Xirgwb",
        "outputId": "304d1b4c-e4bd-4087-9d38-9c678274d694"
      },
      "execution_count": 6,
      "outputs": [
        {
          "output_type": "stream",
          "name": "stdout",
          "text": [
            "313/313 [==============================] - 3s 8ms/step - loss: 0.0355 - accuracy: 0.9911\n",
            "Test loss: 0.03550557792186737\n"
          ]
        }
      ]
    },
    {
      "cell_type": "code",
      "source": [
        "print(f\"Test accuracy: {test_acc}\")"
      ],
      "metadata": {
        "colab": {
          "base_uri": "https://localhost:8080/"
        },
        "id": "FVNYuA47tq89",
        "outputId": "81d890b3-7c9b-4343-9dfb-13d7aab33c0b"
      },
      "execution_count": 7,
      "outputs": [
        {
          "output_type": "stream",
          "name": "stdout",
          "text": [
            "Test accuracy: 0.991100013256073\n"
          ]
        }
      ]
    },
    {
      "cell_type": "code",
      "source": [
        "plt.plot(history.history['accuracy'], label='accuracy')\n",
        "plt.plot(history.history['val_accuracy'], label = 'val_accuracy')\n",
        "plt.xlabel('Epoch')\n",
        "plt.ylabel('Accuracy')\n",
        "plt.ylim([0, 1])\n",
        "plt.legend(loc='lower right')\n",
        "plt.show()"
      ],
      "metadata": {
        "colab": {
          "base_uri": "https://localhost:8080/",
          "height": 455
        },
        "id": "U76p2-hft0Qi",
        "outputId": "5d21c22b-e795-4e0d-bfd6-38fbd25666aa"
      },
      "execution_count": 8,
      "outputs": [
        {
          "output_type": "display_data",
          "data": {
            "text/plain": [
              "<Figure size 640x480 with 1 Axes>"
            ],
            "image/png": "[encoded data removed]"
          },
          "metadata": {}
        }
      ]
    },
    {
      "cell_type": "code",
      "source": [
        "from tensorflow.keras.preprocessing import image\n",
        "import numpy as np\n",
        "\n",
        "# Load a new image (assuming the image is named 'new_digit.png' and located in the current directory)\n",
        "new_image = image.load_img('seven.png', target_size=(28, 28), color_mode='grayscale')\n"
      ],
      "metadata": {
        "id": "e_adXH1St62Q"
      },
      "execution_count": 15,
      "outputs": []
    },
    {
      "cell_type": "code",
      "source": [
        "# Convert the image to an array\n",
        "new_image_array = image.img_to_array(new_image)"
      ],
      "metadata": {
        "id": "WB-Nxv27uCBk"
      },
      "execution_count": 16,
      "outputs": []
    },
    {
      "cell_type": "code",
      "source": [
        "# Normalize the image\n",
        "new_image_array = new_image_array / 255.0"
      ],
      "metadata": {
        "id": "BuHm5WkPvi65"
      },
      "execution_count": 17,
      "outputs": []
    },
    {
      "cell_type": "code",
      "source": [
        "# Reshape the image to match the input shape of the model\n",
        "new_image_array = new_image_array.reshape(1, 28, 28, 1)"
      ],
      "metadata": {
        "id": "9YtT0lLivlB6"
      },
      "execution_count": 18,
      "outputs": []
    },
    {
      "cell_type": "code",
      "source": [
        "# Predict the digit\n",
        "predictions = model.predict(new_image_array)\n",
        "predicted_digit = np.argmax(predictions)\n",
        "print(f\"Predicted digit: {predicted_digit}\")\n",
        "# Plot the new image\n",
        "plt.imshow(new_image_array.reshape(28, 28), cmap=plt.cm.binary)\n",
        "plt.title(f\"Predicted Digit: {predicted_digit}\")\n",
        "plt.axis('off')  # Hide the axes for better visualization\n",
        "plt.show()"
      ],
      "metadata": {
        "colab": {
          "base_uri": "https://localhost:8080/",
          "height": 464
        },
        "id": "CZo4l8xVvthR",
        "outputId": "85312f1d-f3a8-483e-9db6-4a25cb11a2a7"
      },
      "execution_count": 19,
      "outputs": [
        {
          "output_type": "stream",
          "name": "stdout",
          "text": [
            "1/1 [==============================] - 0s 25ms/step\n",
            "Predicted digit: 7\n"
          ]
        },
        {
          "output_type": "display_data",
          "data": {
            "text/plain": [
              "<Figure size 640x480 with 1 Axes>"
            ],
            "image/png": "[encoded data removed]"
          },
          "metadata": {}
        }
      ]
    }
  ]
}